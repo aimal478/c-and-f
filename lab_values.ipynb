{
  "nbformat": 4,
  "nbformat_minor": 0,
  "metadata": {
    "colab": {
      "provenance": [],
      "authorship_tag": "ABX9TyOrCLoyTimr2qSjcs7C/NYu",
      "include_colab_link": true
    },
    "kernelspec": {
      "name": "python3",
      "display_name": "Python 3"
    },
    "language_info": {
      "name": "python"
    }
  },
  "cells": [
    {
      "cell_type": "markdown",
      "metadata": {
        "id": "view-in-github",
        "colab_type": "text"
      },
      "source": [
        "<a href=\"https://colab.research.google.com/github/aimal478/c-and-f/blob/main/lab_values.ipynb\" target=\"_parent\"><img src=\"https://colab.research.google.com/assets/colab-badge.svg\" alt=\"Open In Colab\"/></a>"
      ]
    },
    {
      "cell_type": "code",
      "execution_count": 1,
      "metadata": {
        "id": "D84CvBojVH5x"
      },
      "outputs": [],
      "source": [
        "import pandas as pd\n",
        "\n",
        "# Define your conversion factors\n",
        "# Example: lab_name: (from_unit, to_unit, multiplier)\n",
        "conversion_table = {\n",
        "    \"Glucose\": (\"mmol/L\", \"mg/dL\", 18.0182),\n",
        "    \"Cholesterol\": (\"mmol/L\", \"mg/dL\", 38.67),\n",
        "    \"Creatinine\": (\"mg/dL\", \"µmol/L\", 88.4),\n",
        "    \"Calcium\": (\"mmol/L\", \"mg/dL\", 4.0),\n",
        "    # Add more labs here\n",
        "}\n",
        "\n",
        "# Function to convert lab values\n",
        "def convert_lab_value(lab_name, value, from_unit):\n",
        "    if lab_name in conversion_table:\n",
        "        expected_unit, target_unit, multiplier = conversion_table[lab_name]\n",
        "        if from_unit == expected_unit:\n",
        "            return value * multiplier, target_unit\n",
        "        elif from_unit == target_unit:\n",
        "            return value / multiplier, expected_unit\n",
        "        else:\n",
        "            return None, f\"Unknown unit: {from_unit}\"\n",
        "    else:\n",
        "        return None, \"Unknown lab\"\n"
      ]
    }
  ]
}