{
  "nbformat": 4,
  "nbformat_minor": 0,
  "metadata": {
    "colab": {
      "provenance": [],
      "authorship_tag": "ABX9TyMpACFtHXuheXin6K6wU2zh",
      "include_colab_link": true
    },
    "kernelspec": {
      "name": "python3",
      "display_name": "Python 3"
    },
    "language_info": {
      "name": "python"
    }
  },
  "cells": [
    {
      "cell_type": "markdown",
      "metadata": {
        "id": "view-in-github",
        "colab_type": "text"
      },
      "source": [
        "<a href=\"https://colab.research.google.com/github/aimal478/c-and-f/blob/main/medical_book.ipynb\" target=\"_parent\"><img src=\"https://colab.research.google.com/assets/colab-badge.svg\" alt=\"Open In Colab\"/></a>"
      ]
    },
    {
      "cell_type": "code",
      "execution_count": 1,
      "metadata": {
        "colab": {
          "base_uri": "https://localhost:8080/"
        },
        "id": "SJPayRcIAtz1",
        "outputId": "8a8b6d16-4fe4-43e9-89e7-bb54febaf4fd"
      },
      "outputs": [
        {
          "output_type": "stream",
          "name": "stdout",
          "text": [
            "Epoch 1/10\n"
          ]
        },
        {
          "output_type": "stream",
          "name": "stderr",
          "text": [
            "/usr/local/lib/python3.11/dist-packages/keras/src/layers/core/embedding.py:90: UserWarning: Argument `input_length` is deprecated. Just remove it.\n",
            "  warnings.warn(\n"
          ]
        },
        {
          "output_type": "stream",
          "name": "stdout",
          "text": [
            "\u001b[1m1/1\u001b[0m \u001b[32m━━━━━━━━━━━━━━━━━━━━\u001b[0m\u001b[37m\u001b[0m \u001b[1m2s\u001b[0m 2s/step - accuracy: 0.2500 - loss: 1.6057 - val_accuracy: 0.0000e+00 - val_loss: 1.6303\n",
            "Epoch 2/10\n",
            "\u001b[1m1/1\u001b[0m \u001b[32m━━━━━━━━━━━━━━━━━━━━\u001b[0m\u001b[37m\u001b[0m \u001b[1m0s\u001b[0m 285ms/step - accuracy: 0.2500 - loss: 1.6024 - val_accuracy: 0.0000e+00 - val_loss: 1.6383\n",
            "Epoch 3/10\n",
            "\u001b[1m1/1\u001b[0m \u001b[32m━━━━━━━━━━━━━━━━━━━━\u001b[0m\u001b[37m\u001b[0m \u001b[1m0s\u001b[0m 194ms/step - accuracy: 0.2500 - loss: 1.6007 - val_accuracy: 0.0000e+00 - val_loss: 1.6446\n",
            "Epoch 4/10\n",
            "\u001b[1m1/1\u001b[0m \u001b[32m━━━━━━━━━━━━━━━━━━━━\u001b[0m\u001b[37m\u001b[0m \u001b[1m0s\u001b[0m 239ms/step - accuracy: 0.2500 - loss: 1.5993 - val_accuracy: 0.0000e+00 - val_loss: 1.6504\n",
            "Epoch 5/10\n",
            "\u001b[1m1/1\u001b[0m \u001b[32m━━━━━━━━━━━━━━━━━━━━\u001b[0m\u001b[37m\u001b[0m \u001b[1m0s\u001b[0m 115ms/step - accuracy: 0.2500 - loss: 1.5978 - val_accuracy: 0.0000e+00 - val_loss: 1.6560\n",
            "Epoch 6/10\n",
            "\u001b[1m1/1\u001b[0m \u001b[32m━━━━━━━━━━━━━━━━━━━━\u001b[0m\u001b[37m\u001b[0m \u001b[1m0s\u001b[0m 138ms/step - accuracy: 0.2500 - loss: 1.5963 - val_accuracy: 0.0000e+00 - val_loss: 1.6613\n",
            "Epoch 7/10\n",
            "\u001b[1m1/1\u001b[0m \u001b[32m━━━━━━━━━━━━━━━━━━━━\u001b[0m\u001b[37m\u001b[0m \u001b[1m0s\u001b[0m 89ms/step - accuracy: 0.2500 - loss: 1.5945 - val_accuracy: 0.0000e+00 - val_loss: 1.6657\n",
            "Epoch 8/10\n",
            "\u001b[1m1/1\u001b[0m \u001b[32m━━━━━━━━━━━━━━━━━━━━\u001b[0m\u001b[37m\u001b[0m \u001b[1m0s\u001b[0m 84ms/step - accuracy: 0.2500 - loss: 1.5927 - val_accuracy: 0.0000e+00 - val_loss: 1.6699\n",
            "Epoch 9/10\n",
            "\u001b[1m1/1\u001b[0m \u001b[32m━━━━━━━━━━━━━━━━━━━━\u001b[0m\u001b[37m\u001b[0m \u001b[1m0s\u001b[0m 83ms/step - accuracy: 0.2500 - loss: 1.5910 - val_accuracy: 0.0000e+00 - val_loss: 1.6742\n",
            "Epoch 10/10\n",
            "\u001b[1m1/1\u001b[0m \u001b[32m━━━━━━━━━━━━━━━━━━━━\u001b[0m\u001b[37m\u001b[0m \u001b[1m0s\u001b[0m 86ms/step - accuracy: 0.2500 - loss: 1.5894 - val_accuracy: 0.0000e+00 - val_loss: 1.6781\n",
            "\u001b[1m1/1\u001b[0m \u001b[32m━━━━━━━━━━━━━━━━━━━━\u001b[0m\u001b[37m\u001b[0m \u001b[1m0s\u001b[0m 83ms/step\n",
            "Anatomy\n"
          ]
        }
      ],
      "source": [
        "# Step 1: Install & Import Libraries\n",
        "!pip install -q tensorflow pandas scikit-learn\n",
        "\n",
        "import pandas as pd\n",
        "import tensorflow as tf\n",
        "from sklearn.model_selection import train_test_split\n",
        "from sklearn.preprocessing import LabelEncoder\n",
        "from tensorflow.keras.preprocessing.text import Tokenizer\n",
        "from tensorflow.keras.preprocessing.sequence import pad_sequences\n",
        "\n",
        "# Step 2: Load Sample Data (you can replace with your own CSV)\n",
        "data = {\n",
        "    'title': [\n",
        "        'Essentials of Human Anatomy',\n",
        "        'Textbook of Medical Physiology',\n",
        "        'Pharmacology Made Easy',\n",
        "        'Fundamentals of Pathology',\n",
        "        'Medical Microbiology Basics'\n",
        "    ],\n",
        "    'category': ['Anatomy', 'Physiology', 'Pharmacology', 'Pathology', 'Microbiology']\n",
        "}\n",
        "df = pd.DataFrame(data)\n",
        "\n",
        "# Step 3: Preprocessing\n",
        "X = df['title'].values\n",
        "y = df['category'].values\n",
        "\n",
        "# Encode labels\n",
        "le = LabelEncoder()\n",
        "y_encoded = le.fit_transform(y)\n",
        "\n",
        "# Tokenize text\n",
        "tokenizer = Tokenizer(num_words=1000, oov_token=\"<OOV>\")\n",
        "tokenizer.fit_on_texts(X)\n",
        "sequences = tokenizer.texts_to_sequences(X)\n",
        "padded = pad_sequences(sequences, padding='post', maxlen=10)\n",
        "\n",
        "# Train-test split\n",
        "X_train, X_test, y_train, y_test = train_test_split(padded, y_encoded, test_size=0.2)\n",
        "\n",
        "# Step 4: Build Model\n",
        "model = tf.keras.Sequential([\n",
        "    tf.keras.layers.Embedding(1000, 16, input_length=10),\n",
        "    tf.keras.layers.GlobalAveragePooling1D(),\n",
        "    tf.keras.layers.Dense(16, activation='relu'),\n",
        "    tf.keras.layers.Dense(len(le.classes_), activation='softmax')\n",
        "])\n",
        "\n",
        "model.compile(loss='sparse_categorical_crossentropy', optimizer='adam', metrics=['accuracy'])\n",
        "\n",
        "# Step 5: Train\n",
        "model.fit(X_train, y_train, epochs=10, validation_data=(X_test, y_test))\n",
        "\n",
        "# Step 6: Test\n",
        "def predict_category(title):\n",
        "    seq = tokenizer.texts_to_sequences([title])\n",
        "    padded_seq = pad_sequences(seq, padding='post', maxlen=10)\n",
        "    pred = model.predict(padded_seq)\n",
        "    category = le.inverse_transform([pred.argmax()])\n",
        "    return category[0]\n",
        "\n",
        "# Example\n",
        "print(predict_category(\"Advanced Human Anatomy\"))\n"
      ]
    }
  ]
}