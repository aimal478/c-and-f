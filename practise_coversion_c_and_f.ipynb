{
  "nbformat": 4,
  "nbformat_minor": 0,
  "metadata": {
    "colab": {
      "provenance": [],
      "authorship_tag": "ABX9TyPZ8j+2aitKd1zVNytguP4m",
      "include_colab_link": true
    },
    "kernelspec": {
      "name": "python3",
      "display_name": "Python 3"
    },
    "language_info": {
      "name": "python"
    }
  },
  "cells": [
    {
      "cell_type": "markdown",
      "metadata": {
        "id": "view-in-github",
        "colab_type": "text"
      },
      "source": [
        "<a href=\"https://colab.research.google.com/github/aimal478/c-and-f/blob/main/practise_coversion_c_and_f.ipynb\" target=\"_parent\"><img src=\"https://colab.research.google.com/assets/colab-badge.svg\" alt=\"Open In Colab\"/></a>"
      ]
    },
    {
      "cell_type": "code",
      "execution_count": 1,
      "metadata": {
        "colab": {
          "base_uri": "https://localhost:8080/"
        },
        "id": "4XA1Jtc2l00q",
        "outputId": "fa3e44bf-e713-41fb-f0c7-9cb7ee558b07"
      },
      "outputs": [
        {
          "output_type": "stream",
          "name": "stdout",
          "text": [
            "Temperature Converter\n",
            "1. Celsius to Fahrenheit\n",
            "2. Fahrenheit to Celsius\n",
            "Choose conversion (1 or 2): 1\n",
            "Enter temperature in Celsius: 2\n",
            "2.00°C = 35.60°F\n"
          ]
        }
      ],
      "source": [
        "def celsius_to_fahrenheit(celsius):\n",
        "    return (celsius * 9/5) + 32\n",
        "\n",
        "def fahrenheit_to_celsius(fahrenheit):\n",
        "    return (fahrenheit - 32) * 5/9\n",
        "\n",
        "def main():\n",
        "    print(\"Temperature Converter\")\n",
        "    print(\"1. Celsius to Fahrenheit\")\n",
        "    print(\"2. Fahrenheit to Celsius\")\n",
        "\n",
        "    choice = input(\"Choose conversion (1 or 2): \")\n",
        "\n",
        "    if choice == '1':\n",
        "        celsius = float(input(\"Enter temperature in Celsius: \"))\n",
        "        fahrenheit = celsius_to_fahrenheit(celsius)\n",
        "        print(f\"{celsius:.2f}°C = {fahrenheit:.2f}°F\")\n",
        "\n",
        "    elif choice == '2':\n",
        "        fahrenheit = float(input(\"Enter temperature in Fahrenheit: \"))\n",
        "        celsius = fahrenheit_to_celsius(fahrenheit)\n",
        "        print(f\"{fahrenheit:.2f}°F = {celsius:.2f}°C\")\n",
        "\n",
        "    else:\n",
        "        print(\"Invalid choice. Please enter 1 or 2.\")\n",
        "\n",
        "if __name__ == \"__main__\":\n",
        "    main()\n"
      ]
    }
  ]
}